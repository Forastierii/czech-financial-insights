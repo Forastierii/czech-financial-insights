{
 "cells": [
  {
   "cell_type": "markdown",
   "metadata": {},
   "source": [
    "# Data cleaning"
   ]
  },
  {
   "cell_type": "markdown",
   "metadata": {
    "heading_collapsed": true
   },
   "source": [
    "## Importação de bibliotecas e tabelas"
   ]
  },
  {
   "cell_type": "code",
   "execution_count": 223,
   "metadata": {
    "ExecuteTime": {
     "end_time": "2021-02-01T02:24:56.983075Z",
     "start_time": "2021-02-01T02:24:56.951871Z"
    },
    "hidden": true
   },
   "outputs": [],
   "source": [
    "#Importaremos as bibliotecas do pandas e numpy.\n",
    "import pandas as pd\n",
    "import numpy as np\n",
    "import re"
   ]
  },
  {
   "cell_type": "code",
   "execution_count": 224,
   "metadata": {
    "ExecuteTime": {
     "end_time": "2021-02-01T02:24:57.252710Z",
     "start_time": "2021-02-01T02:24:57.237086Z"
    },
    "hidden": true
   },
   "outputs": [],
   "source": [
    "#Lendo a tabela ACCOUNTS.\n",
    "account = pd.read_csv(\"C:/Users/pfaprado/Documents/IronHack/2021-01-29-project-financial-dataset/csvs/account.csv\") "
   ]
  },
  {
   "cell_type": "code",
   "execution_count": 225,
   "metadata": {
    "ExecuteTime": {
     "end_time": "2021-02-01T02:24:57.538044Z",
     "start_time": "2021-02-01T02:24:57.506778Z"
    },
    "hidden": true
   },
   "outputs": [],
   "source": [
    "#Lendo a tabela CREDITCARD.\n",
    "creditcard = pd.read_csv(\"C:/Users/pfaprado/Documents/IronHack/2021-01-29-project-financial-dataset/csvs/card.csv\")  "
   ]
  },
  {
   "cell_type": "code",
   "execution_count": 226,
   "metadata": {
    "ExecuteTime": {
     "end_time": "2021-02-01T02:24:57.785423Z",
     "start_time": "2021-02-01T02:24:57.769818Z"
    },
    "hidden": true
   },
   "outputs": [],
   "source": [
    "#Lendo a tabela CLIENTES.\n",
    "client = pd.read_csv(\"C:/Users/pfaprado/Documents/IronHack/2021-01-29-project-financial-dataset/csvs/client.csv\")  "
   ]
  },
  {
   "cell_type": "code",
   "execution_count": 227,
   "metadata": {
    "ExecuteTime": {
     "end_time": "2021-02-01T02:24:58.039506Z",
     "start_time": "2021-02-01T02:24:58.008242Z"
    },
    "hidden": true
   },
   "outputs": [],
   "source": [
    "#Lendo a tabela DISPOSITION.\n",
    "disposition = pd.read_csv(\"C:/Users/pfaprado/Documents/IronHack/2021-01-29-project-financial-dataset/csvs/disp.csv\")  "
   ]
  },
  {
   "cell_type": "code",
   "execution_count": 228,
   "metadata": {
    "ExecuteTime": {
     "end_time": "2021-02-01T02:24:58.287000Z",
     "start_time": "2021-02-01T02:24:58.271377Z"
    },
    "hidden": true
   },
   "outputs": [],
   "source": [
    "#Lendo a tabela DEMOGRAPH.\n",
    "demograph = pd.read_csv(\"C:/Users/pfaprado/Documents/IronHack/2021-01-29-project-financial-dataset/csvs/district.csv\")  "
   ]
  },
  {
   "cell_type": "code",
   "execution_count": 229,
   "metadata": {
    "ExecuteTime": {
     "end_time": "2021-02-01T02:24:59.605903Z",
     "start_time": "2021-02-01T02:24:58.525135Z"
    },
    "hidden": true
   },
   "outputs": [
    {
     "name": "stderr",
     "output_type": "stream",
     "text": [
      "c:\\users\\pfaprado\\appdata\\local\\programs\\python\\python39\\lib\\site-packages\\IPython\\core\\interactiveshell.py:3146: DtypeWarning: Columns (9) have mixed types.Specify dtype option on import or set low_memory=False.\n",
      "  has_raised = await self.run_ast_nodes(code_ast.body, cell_name,\n"
     ]
    }
   ],
   "source": [
    "#Lendo a tabela TRANSACTIONS.\n",
    "transactions = pd.read_csv(\"C:/Users/pfaprado/Documents/IronHack/2021-01-29-project-financial-dataset/csvs/trans.csv\", sep =',')  "
   ]
  },
  {
   "cell_type": "code",
   "execution_count": 230,
   "metadata": {
    "ExecuteTime": {
     "end_time": "2021-02-01T02:24:59.706171Z",
     "start_time": "2021-02-01T02:24:59.690534Z"
    },
    "hidden": true
   },
   "outputs": [
    {
     "data": {
      "text/plain": [
       "'-- As tabelas utilizadas serão:\\n-- coluna \"operation\" , tabela \"transactions\" -> queremos a soma de transações do tipo \"VYBER KARTOU\" / \"credit card withdraw\" por account_id\\n-- coluna \"type\", tabela \"creditcard\" -> queremos agrupar por tipos de cartões\\n-- coluna \"region\"/A3, tabela \"demograph\" -> queremos agrupar por regiões\\n-- necessitaremos a tabela \"account\", que conecta tabelas \"demograph\" e \"transactions\"\\n-- necessitaremos a tabela \"disposition\", que conecta tabelas \"account\" e \"credit card\" '"
      ]
     },
     "execution_count": 230,
     "metadata": {},
     "output_type": "execute_result"
    }
   ],
   "source": [
    "\"\"\"-- As tabelas utilizadas serão:\n",
    "-- coluna \"operation\" , tabela \"transactions\" -> queremos a soma de transações do tipo \"VYBER KARTOU\" / \"credit card withdraw\" por account_id\n",
    "-- coluna \"type\", tabela \"creditcard\" -> queremos agrupar por tipos de cartões\n",
    "-- coluna \"region\"/A3, tabela \"demograph\" -> queremos agrupar por regiões\n",
    "-- necessitaremos a tabela \"account\", que conecta tabelas \"demograph\" e \"transactions\"\n",
    "-- necessitaremos a tabela \"disposition\", que conecta tabelas \"account\" e \"credit card\" \"\"\""
   ]
  },
  {
   "cell_type": "markdown",
   "metadata": {},
   "source": [
    "## Tabela TRANSACTIONS\n",
    "\n",
    "As colunas OPERATION, ACCOUNT_ID e TRANS_ID serão necessárias.\n",
    "OPERATION possui dados nulos.\n",
    "ACCOUNT_ID e TRANS_ID já estão organizadas."
   ]
  },
  {
   "cell_type": "code",
   "execution_count": 231,
   "metadata": {
    "ExecuteTime": {
     "end_time": "2021-02-01T02:24:59.991320Z",
     "start_time": "2021-02-01T02:24:59.812929Z"
    }
   },
   "outputs": [
    {
     "name": "stdout",
     "output_type": "stream",
     "text": [
      "<class 'pandas.core.frame.DataFrame'>\n",
      "RangeIndex: 1056320 entries, 0 to 1056319\n",
      "Data columns (total 11 columns):\n",
      " #   Column      Non-Null Count    Dtype  \n",
      "---  ------      --------------    -----  \n",
      " 0   Unnamed: 0  1056320 non-null  int64  \n",
      " 1   trans_id    1056320 non-null  int64  \n",
      " 2   account_id  1056320 non-null  int64  \n",
      " 3   date        1056320 non-null  int64  \n",
      " 4   type        1056320 non-null  object \n",
      " 5   operation   873206 non-null   object \n",
      " 6   amount      1056320 non-null  float64\n",
      " 7   balance     1056320 non-null  float64\n",
      " 8   k_symbol    574439 non-null   object \n",
      " 9   bank        273508 non-null   object \n",
      " 10  account     295389 non-null   float64\n",
      "dtypes: float64(3), int64(4), object(4)\n",
      "memory usage: 88.7+ MB\n"
     ]
    }
   ],
   "source": [
    "transactions.info()\n",
    "#Somente colunas OPERATION, K_SYMBOL, BANK e ACCOUNT tem dados nulos. Só trabalharemos a OPERATIONS.\n",
    "#OPERATION é do tipo object/string.\n",
    "#ACCOUNT_ID é do tipo int.\n",
    "#TRANS_ID é do tipo int."
   ]
  },
  {
   "cell_type": "code",
   "execution_count": 182,
   "metadata": {
    "ExecuteTime": {
     "end_time": "2021-02-01T02:01:12.741954Z",
     "start_time": "2021-02-01T02:01:12.588253Z"
    }
   },
   "outputs": [
    {
     "name": "stdout",
     "output_type": "stream",
     "text": [
      "<class 'pandas.core.frame.DataFrame'>\n",
      "Int64Index: 1056320 entries, 0 to 1056319\n",
      "Data columns (total 8 columns):\n",
      " #   Column      Non-Null Count    Dtype  \n",
      "---  ------      --------------    -----  \n",
      " 0   Unnamed: 0  1056320 non-null  int64  \n",
      " 1   trans_id    1056320 non-null  int64  \n",
      " 2   account_id  1056320 non-null  int64  \n",
      " 3   date        1056320 non-null  int64  \n",
      " 4   type        1056320 non-null  object \n",
      " 5   operation   1056320 non-null  object \n",
      " 6   amount      1056320 non-null  float64\n",
      " 7   balance     1056320 non-null  float64\n",
      "dtypes: float64(2), int64(4), object(2)\n",
      "memory usage: 72.5+ MB\n"
     ]
    }
   ],
   "source": [
    "#Como não utilizaremos e não serão relevantes para a análise as colunas K_SYMBOL, BANK e ACCOUNT,\n",
    "#vamos dropar las.\n",
    "drop_cols_transactions = list(null_cols[null_cols > 300000].index)\n",
    "transactions = transactions.drop(drop_cols_transactions, axis=1)\n",
    "transactions.info()\n",
    "#Ótimo, agora só temos a coluna operation com valores nulos."
   ]
  },
  {
   "cell_type": "markdown",
   "metadata": {
    "ExecuteTime": {
     "end_time": "2021-01-31T23:57:37.145988Z",
     "start_time": "2021-01-31T23:57:37.130420Z"
    }
   },
   "source": [
    "### OPERATION"
   ]
  },
  {
   "cell_type": "code",
   "execution_count": 183,
   "metadata": {
    "ExecuteTime": {
     "end_time": "2021-02-01T02:01:13.074555Z",
     "start_time": "2021-02-01T02:01:12.958690Z"
    }
   },
   "outputs": [
    {
     "data": {
      "text/plain": [
       "Unnamed: 0    0\n",
       "trans_id      0\n",
       "account_id    0\n",
       "date          0\n",
       "type          0\n",
       "operation     0\n",
       "amount        0\n",
       "balance       0\n",
       "dtype: int64"
      ]
     },
     "execution_count": 183,
     "metadata": {},
     "output_type": "execute_result"
    }
   ],
   "source": [
    "null_cols = transactions.isnull().sum()\n",
    "null_cols\n",
    "# OPERATION tem aproximadamente 10% dos dados faltando (183.114 de 1.056.320).\n",
    "# OPERATION é a coluna na qual tem a categoria \"credit card withdraw\", de nosso interesse. Seria bom\n",
    "# verificar o que está ocorrendo com esses dados."
   ]
  },
  {
   "cell_type": "code",
   "execution_count": 184,
   "metadata": {
    "ExecuteTime": {
     "end_time": "2021-02-01T02:01:13.544813Z",
     "start_time": "2021-02-01T02:01:13.460225Z"
    }
   },
   "outputs": [
    {
     "data": {
      "text/plain": [
       "{'collection from another bank',\n",
       " 'credit card withdrawal',\n",
       " 'credit in cash',\n",
       " 'other credit transactions',\n",
       " 'remittance to another bank',\n",
       " 'withdrawal in cash'}"
      ]
     },
     "execution_count": 184,
     "metadata": {},
     "output_type": "execute_result"
    }
   ],
   "source": [
    "#Verificando todos os valores existentes na coluna OPERATION.\n",
    "set(transactions['operation'])"
   ]
  },
  {
   "cell_type": "code",
   "execution_count": 185,
   "metadata": {
    "ExecuteTime": {
     "end_time": "2021-02-01T02:01:13.707583Z",
     "start_time": "2021-02-01T02:01:13.645124Z"
    }
   },
   "outputs": [
    {
     "data": {
      "text/html": [
       "<div>\n",
       "<style scoped>\n",
       "    .dataframe tbody tr th:only-of-type {\n",
       "        vertical-align: middle;\n",
       "    }\n",
       "\n",
       "    .dataframe tbody tr th {\n",
       "        vertical-align: top;\n",
       "    }\n",
       "\n",
       "    .dataframe thead th {\n",
       "        text-align: right;\n",
       "    }\n",
       "</style>\n",
       "<table border=\"1\" class=\"dataframe\">\n",
       "  <thead>\n",
       "    <tr style=\"text-align: right;\">\n",
       "      <th></th>\n",
       "      <th>Unnamed: 0</th>\n",
       "      <th>trans_id</th>\n",
       "      <th>account_id</th>\n",
       "      <th>date</th>\n",
       "      <th>type</th>\n",
       "      <th>operation</th>\n",
       "      <th>amount</th>\n",
       "      <th>balance</th>\n",
       "    </tr>\n",
       "  </thead>\n",
       "  <tbody>\n",
       "  </tbody>\n",
       "</table>\n",
       "</div>"
      ],
      "text/plain": [
       "Empty DataFrame\n",
       "Columns: [Unnamed: 0, trans_id, account_id, date, type, operation, amount, balance]\n",
       "Index: []"
      ]
     },
     "execution_count": 185,
     "metadata": {},
     "output_type": "execute_result"
    }
   ],
   "source": [
    "operation_null = transactions[transactions['operation'].isnull()]\n",
    "operation_null\n",
    "#Aparentemente vemos \"por cima\" que aparecem nulos quando TYPE == 'PRIJEM'"
   ]
  },
  {
   "cell_type": "code",
   "execution_count": 186,
   "metadata": {
    "ExecuteTime": {
     "end_time": "2021-02-01T02:01:13.807834Z",
     "start_time": "2021-02-01T02:01:13.792210Z"
    }
   },
   "outputs": [
    {
     "data": {
      "text/plain": [
       "set()"
      ]
     },
     "execution_count": 186,
     "metadata": {},
     "output_type": "execute_result"
    }
   ],
   "source": [
    "#Verificando em uma subtabela o set de elementos presentes em TYPE na condição de OPERATION = Null:\n",
    "set(operation_null[operation_null['type'] == \"PRIJEM\"]['type'])\n",
    "#Portanto só existem nulos no OPERATION quando TYPE = 'PRIJEM'"
   ]
  },
  {
   "cell_type": "code",
   "execution_count": 187,
   "metadata": {
    "ExecuteTime": {
     "end_time": "2021-02-01T02:01:14.046099Z",
     "start_time": "2021-02-01T02:01:13.908087Z"
    }
   },
   "outputs": [
    {
     "data": {
      "text/plain": [
       "{'collection from another bank', 'credit in cash', 'other credit transactions'}"
      ]
     },
     "execution_count": 187,
     "metadata": {},
     "output_type": "execute_result"
    }
   ],
   "source": [
    "type_prijem = transactions[transactions['type']== \"PRIJEM\"]\n",
    "set(type_prijem['operation'])\n",
    "#Checando a coluna OPERATION quando TYPE é 'PRIJEM' (credit), é possível notar\n",
    "#que só é considerado crédito 'prevod z uctu' (\"COLLECTION FROM ANOTHER BANK\")\n",
    "#e 'VKLAD' (\"withdrawl in cash\")."
   ]
  },
  {
   "cell_type": "code",
   "execution_count": 188,
   "metadata": {
    "ExecuteTime": {
     "end_time": "2021-02-01T02:01:14.224476Z",
     "start_time": "2021-02-01T02:01:14.146355Z"
    }
   },
   "outputs": [
    {
     "data": {
      "text/html": [
       "<div>\n",
       "<style scoped>\n",
       "    .dataframe tbody tr th:only-of-type {\n",
       "        vertical-align: middle;\n",
       "    }\n",
       "\n",
       "    .dataframe tbody tr th {\n",
       "        vertical-align: top;\n",
       "    }\n",
       "\n",
       "    .dataframe thead th {\n",
       "        text-align: right;\n",
       "    }\n",
       "</style>\n",
       "<table border=\"1\" class=\"dataframe\">\n",
       "  <thead>\n",
       "    <tr style=\"text-align: right;\">\n",
       "      <th></th>\n",
       "      <th>Unnamed: 0</th>\n",
       "      <th>trans_id</th>\n",
       "      <th>account_id</th>\n",
       "      <th>date</th>\n",
       "      <th>type</th>\n",
       "      <th>operation</th>\n",
       "      <th>amount</th>\n",
       "      <th>balance</th>\n",
       "    </tr>\n",
       "  </thead>\n",
       "  <tbody>\n",
       "    <tr>\n",
       "      <th>0</th>\n",
       "      <td>0</td>\n",
       "      <td>695247</td>\n",
       "      <td>2378</td>\n",
       "      <td>930101</td>\n",
       "      <td>PRIJEM</td>\n",
       "      <td>credit in cash</td>\n",
       "      <td>700.0</td>\n",
       "      <td>700.0</td>\n",
       "    </tr>\n",
       "    <tr>\n",
       "      <th>1</th>\n",
       "      <td>1</td>\n",
       "      <td>171812</td>\n",
       "      <td>576</td>\n",
       "      <td>930101</td>\n",
       "      <td>PRIJEM</td>\n",
       "      <td>credit in cash</td>\n",
       "      <td>900.0</td>\n",
       "      <td>900.0</td>\n",
       "    </tr>\n",
       "    <tr>\n",
       "      <th>2</th>\n",
       "      <td>2</td>\n",
       "      <td>207264</td>\n",
       "      <td>704</td>\n",
       "      <td>930101</td>\n",
       "      <td>PRIJEM</td>\n",
       "      <td>credit in cash</td>\n",
       "      <td>1000.0</td>\n",
       "      <td>1000.0</td>\n",
       "    </tr>\n",
       "    <tr>\n",
       "      <th>3</th>\n",
       "      <td>3</td>\n",
       "      <td>1117247</td>\n",
       "      <td>3818</td>\n",
       "      <td>930101</td>\n",
       "      <td>PRIJEM</td>\n",
       "      <td>credit in cash</td>\n",
       "      <td>600.0</td>\n",
       "      <td>600.0</td>\n",
       "    </tr>\n",
       "    <tr>\n",
       "      <th>4</th>\n",
       "      <td>4</td>\n",
       "      <td>579373</td>\n",
       "      <td>1972</td>\n",
       "      <td>930102</td>\n",
       "      <td>PRIJEM</td>\n",
       "      <td>credit in cash</td>\n",
       "      <td>400.0</td>\n",
       "      <td>400.0</td>\n",
       "    </tr>\n",
       "    <tr>\n",
       "      <th>...</th>\n",
       "      <td>...</td>\n",
       "      <td>...</td>\n",
       "      <td>...</td>\n",
       "      <td>...</td>\n",
       "      <td>...</td>\n",
       "      <td>...</td>\n",
       "      <td>...</td>\n",
       "      <td>...</td>\n",
       "    </tr>\n",
       "    <tr>\n",
       "      <th>1056315</th>\n",
       "      <td>1056315</td>\n",
       "      <td>3626622</td>\n",
       "      <td>2906</td>\n",
       "      <td>981231</td>\n",
       "      <td>PRIJEM</td>\n",
       "      <td>other credit transactions</td>\n",
       "      <td>62.3</td>\n",
       "      <td>13729.4</td>\n",
       "    </tr>\n",
       "    <tr>\n",
       "      <th>1056316</th>\n",
       "      <td>1056316</td>\n",
       "      <td>3627616</td>\n",
       "      <td>2935</td>\n",
       "      <td>981231</td>\n",
       "      <td>PRIJEM</td>\n",
       "      <td>other credit transactions</td>\n",
       "      <td>81.3</td>\n",
       "      <td>19544.9</td>\n",
       "    </tr>\n",
       "    <tr>\n",
       "      <th>1056317</th>\n",
       "      <td>1056317</td>\n",
       "      <td>3625403</td>\n",
       "      <td>2869</td>\n",
       "      <td>981231</td>\n",
       "      <td>PRIJEM</td>\n",
       "      <td>other credit transactions</td>\n",
       "      <td>60.2</td>\n",
       "      <td>14638.2</td>\n",
       "    </tr>\n",
       "    <tr>\n",
       "      <th>1056318</th>\n",
       "      <td>1056318</td>\n",
       "      <td>3626683</td>\n",
       "      <td>2907</td>\n",
       "      <td>981231</td>\n",
       "      <td>PRIJEM</td>\n",
       "      <td>other credit transactions</td>\n",
       "      <td>107.5</td>\n",
       "      <td>23453.0</td>\n",
       "    </tr>\n",
       "    <tr>\n",
       "      <th>1056319</th>\n",
       "      <td>1056319</td>\n",
       "      <td>3626540</td>\n",
       "      <td>2902</td>\n",
       "      <td>981231</td>\n",
       "      <td>PRIJEM</td>\n",
       "      <td>other credit transactions</td>\n",
       "      <td>164.1</td>\n",
       "      <td>41642.9</td>\n",
       "    </tr>\n",
       "  </tbody>\n",
       "</table>\n",
       "<p>1056320 rows × 8 columns</p>\n",
       "</div>"
      ],
      "text/plain": [
       "         Unnamed: 0  trans_id  account_id    date    type  \\\n",
       "0                 0    695247        2378  930101  PRIJEM   \n",
       "1                 1    171812         576  930101  PRIJEM   \n",
       "2                 2    207264         704  930101  PRIJEM   \n",
       "3                 3   1117247        3818  930101  PRIJEM   \n",
       "4                 4    579373        1972  930102  PRIJEM   \n",
       "...             ...       ...         ...     ...     ...   \n",
       "1056315     1056315   3626622        2906  981231  PRIJEM   \n",
       "1056316     1056316   3627616        2935  981231  PRIJEM   \n",
       "1056317     1056317   3625403        2869  981231  PRIJEM   \n",
       "1056318     1056318   3626683        2907  981231  PRIJEM   \n",
       "1056319     1056319   3626540        2902  981231  PRIJEM   \n",
       "\n",
       "                         operation  amount  balance  \n",
       "0                   credit in cash   700.0    700.0  \n",
       "1                   credit in cash   900.0    900.0  \n",
       "2                   credit in cash  1000.0   1000.0  \n",
       "3                   credit in cash   600.0    600.0  \n",
       "4                   credit in cash   400.0    400.0  \n",
       "...                            ...     ...      ...  \n",
       "1056315  other credit transactions    62.3  13729.4  \n",
       "1056316  other credit transactions    81.3  19544.9  \n",
       "1056317  other credit transactions    60.2  14638.2  \n",
       "1056318  other credit transactions   107.5  23453.0  \n",
       "1056319  other credit transactions   164.1  41642.9  \n",
       "\n",
       "[1056320 rows x 8 columns]"
      ]
     },
     "execution_count": 188,
     "metadata": {},
     "output_type": "execute_result"
    }
   ],
   "source": [
    "#Vamos preencher esses nulos com \"other credit transactions\"\n",
    "transactions['operation'] = transactions['operation'].fillna('other credit transactions')\n",
    "#A cara do dataframe ficará:\n",
    "transactions"
   ]
  },
  {
   "cell_type": "code",
   "execution_count": 189,
   "metadata": {
    "ExecuteTime": {
     "end_time": "2021-02-01T02:01:14.493995Z",
     "start_time": "2021-02-01T02:01:14.309106Z"
    }
   },
   "outputs": [
    {
     "data": {
      "text/html": [
       "<div>\n",
       "<style scoped>\n",
       "    .dataframe tbody tr th:only-of-type {\n",
       "        vertical-align: middle;\n",
       "    }\n",
       "\n",
       "    .dataframe tbody tr th {\n",
       "        vertical-align: top;\n",
       "    }\n",
       "\n",
       "    .dataframe thead th {\n",
       "        text-align: right;\n",
       "    }\n",
       "</style>\n",
       "<table border=\"1\" class=\"dataframe\">\n",
       "  <thead>\n",
       "    <tr style=\"text-align: right;\">\n",
       "      <th></th>\n",
       "      <th>Unnamed: 0</th>\n",
       "      <th>trans_id</th>\n",
       "      <th>account_id</th>\n",
       "      <th>date</th>\n",
       "      <th>type</th>\n",
       "      <th>operation</th>\n",
       "      <th>amount</th>\n",
       "      <th>balance</th>\n",
       "    </tr>\n",
       "  </thead>\n",
       "  <tbody>\n",
       "    <tr>\n",
       "      <th>0</th>\n",
       "      <td>0</td>\n",
       "      <td>695247</td>\n",
       "      <td>2378</td>\n",
       "      <td>930101</td>\n",
       "      <td>PRIJEM</td>\n",
       "      <td>credit in cash</td>\n",
       "      <td>700.0</td>\n",
       "      <td>700.0</td>\n",
       "    </tr>\n",
       "    <tr>\n",
       "      <th>1</th>\n",
       "      <td>1</td>\n",
       "      <td>171812</td>\n",
       "      <td>576</td>\n",
       "      <td>930101</td>\n",
       "      <td>PRIJEM</td>\n",
       "      <td>credit in cash</td>\n",
       "      <td>900.0</td>\n",
       "      <td>900.0</td>\n",
       "    </tr>\n",
       "    <tr>\n",
       "      <th>2</th>\n",
       "      <td>2</td>\n",
       "      <td>207264</td>\n",
       "      <td>704</td>\n",
       "      <td>930101</td>\n",
       "      <td>PRIJEM</td>\n",
       "      <td>credit in cash</td>\n",
       "      <td>1000.0</td>\n",
       "      <td>1000.0</td>\n",
       "    </tr>\n",
       "    <tr>\n",
       "      <th>3</th>\n",
       "      <td>3</td>\n",
       "      <td>1117247</td>\n",
       "      <td>3818</td>\n",
       "      <td>930101</td>\n",
       "      <td>PRIJEM</td>\n",
       "      <td>credit in cash</td>\n",
       "      <td>600.0</td>\n",
       "      <td>600.0</td>\n",
       "    </tr>\n",
       "    <tr>\n",
       "      <th>4</th>\n",
       "      <td>4</td>\n",
       "      <td>579373</td>\n",
       "      <td>1972</td>\n",
       "      <td>930102</td>\n",
       "      <td>PRIJEM</td>\n",
       "      <td>credit in cash</td>\n",
       "      <td>400.0</td>\n",
       "      <td>400.0</td>\n",
       "    </tr>\n",
       "    <tr>\n",
       "      <th>...</th>\n",
       "      <td>...</td>\n",
       "      <td>...</td>\n",
       "      <td>...</td>\n",
       "      <td>...</td>\n",
       "      <td>...</td>\n",
       "      <td>...</td>\n",
       "      <td>...</td>\n",
       "      <td>...</td>\n",
       "    </tr>\n",
       "    <tr>\n",
       "      <th>1056315</th>\n",
       "      <td>1056315</td>\n",
       "      <td>3626622</td>\n",
       "      <td>2906</td>\n",
       "      <td>981231</td>\n",
       "      <td>PRIJEM</td>\n",
       "      <td>other credit transactions</td>\n",
       "      <td>62.3</td>\n",
       "      <td>13729.4</td>\n",
       "    </tr>\n",
       "    <tr>\n",
       "      <th>1056316</th>\n",
       "      <td>1056316</td>\n",
       "      <td>3627616</td>\n",
       "      <td>2935</td>\n",
       "      <td>981231</td>\n",
       "      <td>PRIJEM</td>\n",
       "      <td>other credit transactions</td>\n",
       "      <td>81.3</td>\n",
       "      <td>19544.9</td>\n",
       "    </tr>\n",
       "    <tr>\n",
       "      <th>1056317</th>\n",
       "      <td>1056317</td>\n",
       "      <td>3625403</td>\n",
       "      <td>2869</td>\n",
       "      <td>981231</td>\n",
       "      <td>PRIJEM</td>\n",
       "      <td>other credit transactions</td>\n",
       "      <td>60.2</td>\n",
       "      <td>14638.2</td>\n",
       "    </tr>\n",
       "    <tr>\n",
       "      <th>1056318</th>\n",
       "      <td>1056318</td>\n",
       "      <td>3626683</td>\n",
       "      <td>2907</td>\n",
       "      <td>981231</td>\n",
       "      <td>PRIJEM</td>\n",
       "      <td>other credit transactions</td>\n",
       "      <td>107.5</td>\n",
       "      <td>23453.0</td>\n",
       "    </tr>\n",
       "    <tr>\n",
       "      <th>1056319</th>\n",
       "      <td>1056319</td>\n",
       "      <td>3626540</td>\n",
       "      <td>2902</td>\n",
       "      <td>981231</td>\n",
       "      <td>PRIJEM</td>\n",
       "      <td>other credit transactions</td>\n",
       "      <td>164.1</td>\n",
       "      <td>41642.9</td>\n",
       "    </tr>\n",
       "  </tbody>\n",
       "</table>\n",
       "<p>1056320 rows × 8 columns</p>\n",
       "</div>"
      ],
      "text/plain": [
       "         Unnamed: 0  trans_id  account_id    date    type  \\\n",
       "0                 0    695247        2378  930101  PRIJEM   \n",
       "1                 1    171812         576  930101  PRIJEM   \n",
       "2                 2    207264         704  930101  PRIJEM   \n",
       "3                 3   1117247        3818  930101  PRIJEM   \n",
       "4                 4    579373        1972  930102  PRIJEM   \n",
       "...             ...       ...         ...     ...     ...   \n",
       "1056315     1056315   3626622        2906  981231  PRIJEM   \n",
       "1056316     1056316   3627616        2935  981231  PRIJEM   \n",
       "1056317     1056317   3625403        2869  981231  PRIJEM   \n",
       "1056318     1056318   3626683        2907  981231  PRIJEM   \n",
       "1056319     1056319   3626540        2902  981231  PRIJEM   \n",
       "\n",
       "                         operation  amount  balance  \n",
       "0                   credit in cash   700.0    700.0  \n",
       "1                   credit in cash   900.0    900.0  \n",
       "2                   credit in cash  1000.0   1000.0  \n",
       "3                   credit in cash   600.0    600.0  \n",
       "4                   credit in cash   400.0    400.0  \n",
       "...                            ...     ...      ...  \n",
       "1056315  other credit transactions    62.3  13729.4  \n",
       "1056316  other credit transactions    81.3  19544.9  \n",
       "1056317  other credit transactions    60.2  14638.2  \n",
       "1056318  other credit transactions   107.5  23453.0  \n",
       "1056319  other credit transactions   164.1  41642.9  \n",
       "\n",
       "[1056320 rows x 8 columns]"
      ]
     },
     "execution_count": 189,
     "metadata": {},
     "output_type": "execute_result"
    }
   ],
   "source": [
    "#Agora que substituímos os nulos, já estamos prontos para renomear os dados presentes na coluna OPERATION:\n",
    "\n",
    "transactions['operation'] = transactions['operation'].replace(to_replace =\"VYBER KARTOU\", \n",
    "                 value =\"credit card withdrawal\")\n",
    "transactions['operation'] = transactions['operation'].replace(to_replace =\"VKLAD\", \n",
    "                 value =\"credit in cash\")\n",
    "transactions['operation'] = transactions['operation'].replace(to_replace =\"PREVOD Z UCTU\", \n",
    "                 value =\"collection from another bank\")\n",
    "transactions['operation'] = transactions['operation'].replace(to_replace =\"VYBER\", \n",
    "                 value =\"withdrawal in cash\")\n",
    "transactions['operation'] = transactions['operation'].replace(to_replace =\"PREVOD NA UCET\", \n",
    "                 value =\"remittance to another bank\")\n",
    "\n",
    "#A cara do dataframe ficará:\n",
    "transactions"
   ]
  },
  {
   "cell_type": "code",
   "execution_count": 190,
   "metadata": {
    "ExecuteTime": {
     "end_time": "2021-02-01T02:01:15.449872Z",
     "start_time": "2021-02-01T02:01:14.578627Z"
    }
   },
   "outputs": [
    {
     "name": "stdout",
     "output_type": "stream",
     "text": [
      "Number of duplicate records dropped:  0\n"
     ]
    }
   ],
   "source": [
    "#Dropando as linhas duplicadas:\n",
    "before = len(transactions)\n",
    "transactions = transactions.drop_duplicates()\n",
    "after = len(transactions)\n",
    "print('Number of duplicate records dropped: ', str(before - after))\n",
    "#Não possuímos linhas duplicadas nessa tabela TRANSACTIONS."
   ]
  },
  {
   "cell_type": "code",
   "execution_count": 191,
   "metadata": {
    "ExecuteTime": {
     "end_time": "2021-02-01T02:01:15.650445Z",
     "start_time": "2021-02-01T02:01:15.550157Z"
    }
   },
   "outputs": [
    {
     "name": "stdout",
     "output_type": "stream",
     "text": [
      "<class 'pandas.core.frame.DataFrame'>\n",
      "Int64Index: 1056320 entries, 0 to 1056319\n",
      "Data columns (total 8 columns):\n",
      " #   Column      Non-Null Count    Dtype  \n",
      "---  ------      --------------    -----  \n",
      " 0   Unnamed: 0  1056320 non-null  int64  \n",
      " 1   trans_id    1056320 non-null  int64  \n",
      " 2   account_id  1056320 non-null  int64  \n",
      " 3   date        1056320 non-null  int64  \n",
      " 4   type        1056320 non-null  object \n",
      " 5   operation   1056320 non-null  object \n",
      " 6   amount      1056320 non-null  float64\n",
      " 7   balance     1056320 non-null  float64\n",
      "dtypes: float64(2), int64(4), object(2)\n",
      "memory usage: 72.5+ MB\n"
     ]
    }
   ],
   "source": [
    "#Por fim a nossa tabela TRANSACTIONS ficará sem nulos e com categorias do OPERATION traduzida.\n",
    "transactions.info()"
   ]
  },
  {
   "cell_type": "code",
   "execution_count": 192,
   "metadata": {
    "ExecuteTime": {
     "end_time": "2021-02-01T02:01:20.440980Z",
     "start_time": "2021-02-01T02:01:15.728596Z"
    }
   },
   "outputs": [],
   "source": [
    "#Vamos exportar o dataframe na forma de CSV.\n",
    "transactions.to_csv(r'C:/Users\\pfaprado/Documents\\IronHack/2021-01-29-project-financial-dataset/csvs_corrected_on_python/transactions_corrected.csv', sep = ',', index = False)"
   ]
  },
  {
   "cell_type": "markdown",
   "metadata": {
    "ExecuteTime": {
     "end_time": "2021-02-01T01:04:20.505322Z",
     "start_time": "2021-02-01T01:04:20.489698Z"
    },
    "heading_collapsed": true
   },
   "source": [
    "## Tabela DISPOSITION\n",
    "As colunas DISP_ID e CLIENT_ID serão necessárias."
   ]
  },
  {
   "cell_type": "code",
   "execution_count": 193,
   "metadata": {
    "ExecuteTime": {
     "end_time": "2021-02-01T02:01:20.541279Z",
     "start_time": "2021-02-01T02:01:20.525675Z"
    },
    "hidden": true
   },
   "outputs": [
    {
     "name": "stdout",
     "output_type": "stream",
     "text": [
      "<class 'pandas.core.frame.DataFrame'>\n",
      "Int64Index: 5369 entries, 0 to 5368\n",
      "Data columns (total 5 columns):\n",
      " #   Column      Non-Null Count  Dtype \n",
      "---  ------      --------------  ----- \n",
      " 0   Unnamed: 0  5369 non-null   int64 \n",
      " 1   disp_id     5369 non-null   int64 \n",
      " 2   client_id   5369 non-null   int64 \n",
      " 3   account_id  5369 non-null   int64 \n",
      " 4   type        5369 non-null   object\n",
      "dtypes: int64(4), object(1)\n",
      "memory usage: 251.7+ KB\n"
     ]
    }
   ],
   "source": [
    "disposition.info()\n",
    "#Sem dados nulos na tabela.\n",
    "#CLIENT_ID é do tipo int.\n",
    "#DISP_ID é do tipo int."
   ]
  },
  {
   "cell_type": "code",
   "execution_count": 194,
   "metadata": {
    "ExecuteTime": {
     "end_time": "2021-02-01T02:01:20.942500Z",
     "start_time": "2021-02-01T02:01:20.625920Z"
    },
    "hidden": true
   },
   "outputs": [
    {
     "name": "stdout",
     "output_type": "stream",
     "text": [
      "Number of duplicate records dropped:  0\n"
     ]
    }
   ],
   "source": [
    "#Vamos retirar as linhas duplicadas:\n",
    "before = len(disposition)\n",
    "disposition = disposition.drop_duplicates()\n",
    "after = len(disposition)\n",
    "print('Number of duplicate records dropped: ', str(before - after))\n",
    "#Não possuímos linhas duplicadas nessa tabela DISPOSITION."
   ]
  },
  {
   "cell_type": "code",
   "execution_count": 195,
   "metadata": {
    "ExecuteTime": {
     "end_time": "2021-02-01T02:01:21.296795Z",
     "start_time": "2021-02-01T02:01:21.027169Z"
    },
    "hidden": true
   },
   "outputs": [],
   "source": [
    "#disp_ID é a coluna de interesse nosso, pois será a Primary Key. A Foreign Key será disp_id da tabela\n",
    "#creditcard."
   ]
  },
  {
   "cell_type": "markdown",
   "metadata": {
    "heading_collapsed": true
   },
   "source": [
    "## Tabela CREDITCARD\n",
    "As colunas CARD_ID, DISP_ID e TYPE serão necessárias."
   ]
  },
  {
   "cell_type": "code",
   "execution_count": 196,
   "metadata": {
    "ExecuteTime": {
     "end_time": "2021-02-01T02:01:21.497374Z",
     "start_time": "2021-02-01T02:01:21.428322Z"
    },
    "hidden": true
   },
   "outputs": [
    {
     "name": "stdout",
     "output_type": "stream",
     "text": [
      "<class 'pandas.core.frame.DataFrame'>\n",
      "Int64Index: 892 entries, 0 to 891\n",
      "Data columns (total 5 columns):\n",
      " #   Column      Non-Null Count  Dtype \n",
      "---  ------      --------------  ----- \n",
      " 0   Unnamed: 0  892 non-null    int64 \n",
      " 1   card_id     892 non-null    int64 \n",
      " 2   disp_id     892 non-null    int64 \n",
      " 3   type        892 non-null    object\n",
      " 4   issued      892 non-null    object\n",
      "dtypes: int64(3), object(2)\n",
      "memory usage: 41.8+ KB\n"
     ]
    }
   ],
   "source": [
    "creditcard.info()\n",
    "#Sem dados nulos na tabela.\n",
    "#CARD_ID é do tipo int.\n",
    "#DISP_ID é do tipo int.\n",
    "#TYPE é do tipo object/string."
   ]
  },
  {
   "cell_type": "code",
   "execution_count": 197,
   "metadata": {
    "ExecuteTime": {
     "end_time": "2021-02-01T02:01:21.585599Z",
     "start_time": "2021-02-01T02:01:21.497374Z"
    },
    "hidden": true
   },
   "outputs": [
    {
     "name": "stdout",
     "output_type": "stream",
     "text": [
      "Number of duplicate records dropped:  0\n"
     ]
    }
   ],
   "source": [
    "#Vamos retirar as linhas duplicadas:\n",
    "before = len(creditcard)\n",
    "creditcard = creditcard.drop_duplicates()\n",
    "after = len(creditcard)\n",
    "print('Number of duplicate records dropped: ', str(before - after))\n",
    "#Não possuímos linhas duplicadas nessa tabela CREDITCARD."
   ]
  },
  {
   "cell_type": "code",
   "execution_count": 198,
   "metadata": {
    "ExecuteTime": {
     "end_time": "2021-02-01T02:01:21.786101Z",
     "start_time": "2021-02-01T02:01:21.770477Z"
    },
    "hidden": true
   },
   "outputs": [],
   "source": [
    "#DISP_ID será a Foreign Key e a Primary Key será DISP_ID da tabela DISPOSITION."
   ]
  },
  {
   "cell_type": "code",
   "execution_count": 199,
   "metadata": {
    "ExecuteTime": {
     "end_time": "2021-02-01T02:01:27.473266Z",
     "start_time": "2021-02-01T02:01:27.442075Z"
    },
    "hidden": true
   },
   "outputs": [
    {
     "data": {
      "text/plain": [
       "{'classic', 'gold', 'junior'}"
      ]
     },
     "execution_count": 199,
     "metadata": {},
     "output_type": "execute_result"
    }
   ],
   "source": [
    "#Vamos checar se realmente estão registrados somente 3 tipos de cartões.\n",
    "set(creditcard['type'])\n",
    "#Somente existem 3 categorias presentes mesmo."
   ]
  },
  {
   "cell_type": "markdown",
   "metadata": {
    "ExecuteTime": {
     "end_time": "2021-02-01T01:18:04.894510Z",
     "start_time": "2021-02-01T01:18:04.878881Z"
    },
    "heading_collapsed": true
   },
   "source": [
    "## Tabela ACCOUNT\n",
    "As colunas ACCOUNT_ID e DISTRICT_ID serão necessárias."
   ]
  },
  {
   "cell_type": "code",
   "execution_count": 200,
   "metadata": {
    "ExecuteTime": {
     "end_time": "2021-02-01T02:01:28.075171Z",
     "start_time": "2021-02-01T02:01:28.043972Z"
    },
    "hidden": true
   },
   "outputs": [
    {
     "name": "stdout",
     "output_type": "stream",
     "text": [
      "<class 'pandas.core.frame.DataFrame'>\n",
      "Int64Index: 4500 entries, 0 to 4499\n",
      "Data columns (total 5 columns):\n",
      " #   Column       Non-Null Count  Dtype \n",
      "---  ------       --------------  ----- \n",
      " 0   Unnamed: 0   4500 non-null   int64 \n",
      " 1   account_id   4500 non-null   int64 \n",
      " 2   district_id  4500 non-null   int64 \n",
      " 3   frequency    4500 non-null   object\n",
      " 4   date         4500 non-null   int64 \n",
      "dtypes: int64(4), object(1)\n",
      "memory usage: 210.9+ KB\n"
     ]
    }
   ],
   "source": [
    "account.info()\n",
    "#Sem dados nulos na tabela.\n",
    "#ACCOUNT_ID é do tipo int.\n",
    "#DISTRICT_ID é do tipo int."
   ]
  },
  {
   "cell_type": "code",
   "execution_count": 201,
   "metadata": {
    "ExecuteTime": {
     "end_time": "2021-02-01T02:01:28.329139Z",
     "start_time": "2021-02-01T02:01:28.291390Z"
    },
    "hidden": true
   },
   "outputs": [
    {
     "name": "stdout",
     "output_type": "stream",
     "text": [
      "Number of duplicate records dropped:  0\n"
     ]
    }
   ],
   "source": [
    "#Vamos retirar as linhas duplicadas:\n",
    "before = len(account)\n",
    "account = account.drop_duplicates()\n",
    "after = len(account)\n",
    "print('Number of duplicate records dropped: ', str(before - after))\n",
    "#Não possuímos linhas duplicadas nessa tabela CREDITCARD."
   ]
  },
  {
   "cell_type": "code",
   "execution_count": 202,
   "metadata": {
    "ExecuteTime": {
     "end_time": "2021-02-01T02:01:28.529647Z",
     "start_time": "2021-02-01T02:01:28.507500Z"
    },
    "hidden": true
   },
   "outputs": [],
   "source": [
    "#DISTRICT_ID será a Foreign Key e a Primary Key será DISTRICT_ID da tabela DEMOGRAPH.\n",
    "#ACCOUNT_ID será a Primary Key e a Foreign Key será ACCOUNT_ID da tabela TRANSACTIONS."
   ]
  },
  {
   "cell_type": "markdown",
   "metadata": {
    "ExecuteTime": {
     "end_time": "2021-02-01T01:22:56.685591Z",
     "start_time": "2021-02-01T01:22:56.670031Z"
    },
    "heading_collapsed": true
   },
   "source": [
    "## Tabela DEMOGRAPH\n",
    "As colunas A1 (\"DISTRICT_ID\") e A3 (região) são necessárias."
   ]
  },
  {
   "cell_type": "code",
   "execution_count": 203,
   "metadata": {
    "ExecuteTime": {
     "end_time": "2021-02-01T02:01:29.008957Z",
     "start_time": "2021-02-01T02:01:28.977710Z"
    },
    "hidden": true
   },
   "outputs": [
    {
     "name": "stdout",
     "output_type": "stream",
     "text": [
      "<class 'pandas.core.frame.DataFrame'>\n",
      "Int64Index: 77 entries, 0 to 76\n",
      "Data columns (total 17 columns):\n",
      " #   Column      Non-Null Count  Dtype \n",
      "---  ------      --------------  ----- \n",
      " 0   Unnamed: 0  77 non-null     object\n",
      " 1   A1          77 non-null     object\n",
      " 2   A2          77 non-null     object\n",
      " 3   A3          77 non-null     object\n",
      " 4   A4          77 non-null     object\n",
      " 5   A5          77 non-null     object\n",
      " 6   A6          77 non-null     object\n",
      " 7   A7          77 non-null     object\n",
      " 8   A8          77 non-null     object\n",
      " 9   A9          77 non-null     object\n",
      " 10  A10         77 non-null     object\n",
      " 11  A11         77 non-null     object\n",
      " 12  A12         77 non-null     object\n",
      " 13  A13         77 non-null     object\n",
      " 14  A14         77 non-null     object\n",
      " 15  A15         77 non-null     object\n",
      " 16  A16         77 non-null     object\n",
      "dtypes: object(17)\n",
      "memory usage: 10.8+ KB\n"
     ]
    }
   ],
   "source": [
    "demograph.info()\n",
    "#Sem dados nulos na tabela.\n",
    "#A1 é do tipo int.\n",
    "#A3 é do tipo object/string."
   ]
  },
  {
   "cell_type": "code",
   "execution_count": 204,
   "metadata": {
    "ExecuteTime": {
     "end_time": "2021-02-01T02:01:29.278545Z",
     "start_time": "2021-02-01T02:01:29.247285Z"
    },
    "hidden": true
   },
   "outputs": [
    {
     "name": "stdout",
     "output_type": "stream",
     "text": [
      "Number of duplicate records dropped:  0\n"
     ]
    }
   ],
   "source": [
    "#Vamos retirar as linhas duplicadas:\n",
    "before = len(demograph)\n",
    "demograph = demograph.drop_duplicates()\n",
    "after = len(demograph)\n",
    "print('Number of duplicate records dropped: ', str(before - after))\n",
    "#Não possuímos linhas duplicadas nessa tabela CREDITCARD."
   ]
  },
  {
   "cell_type": "code",
   "execution_count": 205,
   "metadata": {
    "ExecuteTime": {
     "end_time": "2021-02-01T02:01:31.356780Z",
     "start_time": "2021-02-01T02:01:31.341154Z"
    },
    "hidden": true
   },
   "outputs": [],
   "source": [
    "#DISTRICT_ID será a Foreign Key e a Primary Key será DISTRICT_ID da tabela DEMOGRAPH.\n",
    "#ACCOUNT_ID será a Primary Key e a Foreign Key será ACCOUNT_ID da tabela TRANSACTIONS."
   ]
  },
  {
   "cell_type": "code",
   "execution_count": 206,
   "metadata": {
    "ExecuteTime": {
     "end_time": "2021-02-01T02:01:31.619796Z",
     "start_time": "2021-02-01T02:01:31.604221Z"
    },
    "hidden": true
   },
   "outputs": [
    {
     "data": {
      "text/plain": [
       "{'Prague',\n",
       " 'central Bohemia',\n",
       " 'east Bohemia',\n",
       " 'north Bohemia',\n",
       " 'north Moravia',\n",
       " 'south Bohemia',\n",
       " 'south Moravia',\n",
       " 'west Bohemia'}"
      ]
     },
     "execution_count": 206,
     "metadata": {},
     "output_type": "execute_result"
    }
   ],
   "source": [
    "#A coluna de interesse é A3 que indica regiões.\n",
    "set(demograph['A3'])\n",
    "#Existem 8 regiões no total."
   ]
  },
  {
   "cell_type": "markdown",
   "metadata": {
    "ExecuteTime": {
     "end_time": "2021-02-01T02:07:48.880174Z",
     "start_time": "2021-02-01T02:07:48.864564Z"
    }
   },
   "source": [
    "## Tabela CLIENT\n",
    "As colunas CLIENT_ID e DISTRICT_ID (A1 na tabela DEMOGRAPH) são necessárias."
   ]
  },
  {
   "cell_type": "code",
   "execution_count": 232,
   "metadata": {
    "ExecuteTime": {
     "end_time": "2021-02-01T03:37:54.404645Z",
     "start_time": "2021-02-01T03:37:54.382511Z"
    }
   },
   "outputs": [
    {
     "name": "stdout",
     "output_type": "stream",
     "text": [
      "<class 'pandas.core.frame.DataFrame'>\n",
      "RangeIndex: 5369 entries, 0 to 5368\n",
      "Data columns (total 4 columns):\n",
      " #   Column        Non-Null Count  Dtype\n",
      "---  ------        --------------  -----\n",
      " 0   Unnamed: 0    5369 non-null   int64\n",
      " 1   client_id     5369 non-null   int64\n",
      " 2   birth_number  5369 non-null   int64\n",
      " 3   district_id   5369 non-null   int64\n",
      "dtypes: int64(4)\n",
      "memory usage: 167.9 KB\n"
     ]
    }
   ],
   "source": [
    "client.info()\n",
    "#Sem dados nulos na tabela.\n",
    "#CLIENT_ID é do tipo int.\n",
    "#DISTRICT_ID é do tipo int."
   ]
  },
  {
   "cell_type": "code",
   "execution_count": 209,
   "metadata": {
    "ExecuteTime": {
     "end_time": "2021-02-01T02:08:55.352881Z",
     "start_time": "2021-02-01T02:08:55.337243Z"
    }
   },
   "outputs": [
    {
     "name": "stdout",
     "output_type": "stream",
     "text": [
      "Number of duplicate records dropped:  0\n"
     ]
    }
   ],
   "source": [
    "#Vamos retirar as linhas duplicadas:\n",
    "before = len(client)\n",
    "client = client.drop_duplicates()\n",
    "after = len(client)\n",
    "print('Number of duplicate records dropped: ', str(before - after))\n",
    "#Não possuímos linhas duplicadas nessa tabela CLIENT."
   ]
  },
  {
   "cell_type": "code",
   "execution_count": null,
   "metadata": {},
   "outputs": [],
   "source": [
    "#DISTRICT_ID será a Foreign Key e a Primary Key será DISTRICT_ID da tabela DEMOGRAPH.\n",
    "#CLIENT_ID será a Primary Key e a Foreign Key será CLIENT_ID da tabela DISPOSITION."
   ]
  }
 ],
 "metadata": {
  "kernelspec": {
   "display_name": "Python 3",
   "language": "python",
   "name": "python3"
  },
  "language_info": {
   "codemirror_mode": {
    "name": "ipython",
    "version": 3
   },
   "file_extension": ".py",
   "mimetype": "text/x-python",
   "name": "python",
   "nbconvert_exporter": "python",
   "pygments_lexer": "ipython3",
   "version": "3.9.0"
  },
  "toc": {
   "base_numbering": 1,
   "nav_menu": {},
   "number_sections": true,
   "sideBar": true,
   "skip_h1_title": false,
   "title_cell": "Table of Contents",
   "title_sidebar": "Contents",
   "toc_cell": false,
   "toc_position": {},
   "toc_section_display": true,
   "toc_window_display": false
  },
  "varInspector": {
   "cols": {
    "lenName": 16,
    "lenType": 16,
    "lenVar": 40
   },
   "kernels_config": {
    "python": {
     "delete_cmd_postfix": "",
     "delete_cmd_prefix": "del ",
     "library": "var_list.py",
     "varRefreshCmd": "print(var_dic_list())"
    },
    "r": {
     "delete_cmd_postfix": ") ",
     "delete_cmd_prefix": "rm(",
     "library": "var_list.r",
     "varRefreshCmd": "cat(var_dic_list()) "
    }
   },
   "types_to_exclude": [
    "module",
    "function",
    "builtin_function_or_method",
    "instance",
    "_Feature"
   ],
   "window_display": false
  }
 },
 "nbformat": 4,
 "nbformat_minor": 4
}
